{
  "cells": [
    {
      "cell_type": "markdown",
      "metadata": {
        "collapsed": true,
        "id": "OqPsa6bKj5KO"
      },
      "source": [
        "# nuScenes CAN bus tutorial\n",
        "This page describes how to use the nuScenes CAN bus expansion data.\n",
        "The CAN bus is a vehicle bus over which information such as position, velocity, acceleration, steering, lights, battery and many more are submitted.\n",
        "We recommend you start by reading the [README](https://github.com/nutonomy/nuscenes-devkit/tree/master/python-sdk/nuscenes/can_bus/README.md)."
      ]
    },
    {
      "cell_type": "markdown",
      "metadata": {
        "id": "gtozRUTlj5KR"
      },
      "source": [
        "## Setup\n",
        "To install the can bus expansion, please download the files from https://www.nuscenes.org/download and copy the files into your nuScenes can folder, e.g. `/data/sets/nuscenes/can_bus`. You will also need to update your `nuscenes-devkit`."
      ]
    },
    {
      "cell_type": "markdown",
      "metadata": {
        "id": "PWUIPg8Jj5KS"
      },
      "source": [
        "## Initialization\n",
        "To initialize the can bus API, run the following:"
      ]
    },
    {
      "cell_type": "code",
      "execution_count": 3,
      "metadata": {
        "id": "iBdm67X6j5KT",
        "outputId": "5ad8c3db-8e43-4bc6-9aa9-9d6fb2141016",
        "colab": {
          "base_uri": "https://localhost:8080/",
          "height": 332
        }
      },
      "outputs": [
        {
          "output_type": "error",
          "ename": "ModuleNotFoundError",
          "evalue": "No module named 'nuscenes'",
          "traceback": [
            "\u001b[0;31m---------------------------------------------------------------------------\u001b[0m",
            "\u001b[0;31mModuleNotFoundError\u001b[0m                       Traceback (most recent call last)",
            "\u001b[0;32m<ipython-input-3-afd9fd877757>\u001b[0m in \u001b[0;36m<cell line: 0>\u001b[0;34m()\u001b[0m\n\u001b[0;32m----> 1\u001b[0;31m \u001b[0;32mfrom\u001b[0m \u001b[0mnuscenes\u001b[0m\u001b[0;34m.\u001b[0m\u001b[0mcan_bus\u001b[0m\u001b[0;34m.\u001b[0m\u001b[0mcan_bus_api\u001b[0m \u001b[0;32mimport\u001b[0m \u001b[0mNuScenesCanBus\u001b[0m\u001b[0;34m\u001b[0m\u001b[0;34m\u001b[0m\u001b[0m\n\u001b[0m\u001b[1;32m      2\u001b[0m \u001b[0mnusc_can\u001b[0m \u001b[0;34m=\u001b[0m \u001b[0mNuScenesCanBus\u001b[0m\u001b[0;34m(\u001b[0m\u001b[0mdataroot\u001b[0m\u001b[0;34m=\u001b[0m\u001b[0;34m'/data/sets/nuscenes'\u001b[0m\u001b[0;34m)\u001b[0m\u001b[0;34m\u001b[0m\u001b[0;34m\u001b[0m\u001b[0m\n",
            "\u001b[0;31mModuleNotFoundError\u001b[0m: No module named 'nuscenes'",
            "",
            "\u001b[0;31m---------------------------------------------------------------------------\u001b[0;32m\nNOTE: If your import is failing due to a missing package, you can\nmanually install dependencies using either !pip or !apt.\n\nTo view examples of installing some common dependencies, click the\n\"Open Examples\" button below.\n\u001b[0;31m---------------------------------------------------------------------------\u001b[0m\n"
          ],
          "errorDetails": {
            "actions": [
              {
                "action": "open_url",
                "actionText": "Open Examples",
                "url": "/notebooks/snippets/importing_libraries.ipynb"
              }
            ]
          }
        }
      ],
      "source": [
        "from nuscenes.can_bus.can_bus_api import NuScenesCanBus\n",
        "nusc_can = NuScenesCanBus(dataroot='/data/sets/nuscenes')"
      ]
    },
    {
      "cell_type": "markdown",
      "metadata": {
        "id": "ayzU5qTjj5KV"
      },
      "source": [
        "# Overview\n",
        "Let us get an overview of all the CAN bus messages and some basic statistics (min, max, mean, stdev, etc.). We will pick an arbitrary scene for that."
      ]
    },
    {
      "cell_type": "code",
      "execution_count": 2,
      "metadata": {
        "id": "k6xC1mnej5KV",
        "outputId": "3a5595bf-d153-42d4-ea48-ccd7330e12c2",
        "colab": {
          "base_uri": "https://localhost:8080/",
          "height": 159
        }
      },
      "outputs": [
        {
          "output_type": "error",
          "ename": "NameError",
          "evalue": "name 'nusc_can' is not defined",
          "traceback": [
            "\u001b[0;31m---------------------------------------------------------------------------\u001b[0m",
            "\u001b[0;31mNameError\u001b[0m                                 Traceback (most recent call last)",
            "\u001b[0;32m<ipython-input-2-79f77bb82803>\u001b[0m in \u001b[0;36m<cell line: 0>\u001b[0;34m()\u001b[0m\n\u001b[1;32m      1\u001b[0m \u001b[0mscene_name\u001b[0m \u001b[0;34m=\u001b[0m \u001b[0;34m'scene-0001'\u001b[0m\u001b[0;34m\u001b[0m\u001b[0;34m\u001b[0m\u001b[0m\n\u001b[0;32m----> 2\u001b[0;31m \u001b[0mnusc_can\u001b[0m\u001b[0;34m.\u001b[0m\u001b[0mprint_all_message_stats\u001b[0m\u001b[0;34m(\u001b[0m\u001b[0mscene_name\u001b[0m\u001b[0;34m)\u001b[0m\u001b[0;34m\u001b[0m\u001b[0;34m\u001b[0m\u001b[0m\n\u001b[0m",
            "\u001b[0;31mNameError\u001b[0m: name 'nusc_can' is not defined"
          ]
        }
      ],
      "source": [
        "scene_name = 'scene-0001'\n",
        "nusc_can.print_all_message_stats(scene_name)"
      ]
    },
    {
      "cell_type": "markdown",
      "metadata": {
        "id": "WaiAY0I3j5KW"
      },
      "source": [
        "## Visualization\n",
        "Next we plot the values in a CAN bus message over time.\n",
        "\n",
        "As an example let us pick the steering angle feedback message and the key called \"value\" as described in the [README](https://github.com/nutonomy/nuscenes-devkit/tree/master/python-sdk/nuscenes/can_bus/README.md). The plot below shows the steering angle. It seems like the scene starts with a strong left turn and then continues more or less straight."
      ]
    },
    {
      "cell_type": "code",
      "execution_count": null,
      "metadata": {
        "id": "UPEQWfAyj5KW"
      },
      "outputs": [],
      "source": [
        "message_name = 'steeranglefeedback'\n",
        "key_name = 'value'\n",
        "nusc_can.plot_message_data(scene_name, message_name, key_name)"
      ]
    },
    {
      "cell_type": "markdown",
      "metadata": {
        "id": "bGpFQ1ezj5KX"
      },
      "source": [
        "If the data we want to plot is multi-dimensional, we need to provide an additional argument to select the dimension. Here we plot the acceleration along the lateral dimension (y-axis). We can see that initially this acceleration is higher."
      ]
    },
    {
      "cell_type": "code",
      "execution_count": null,
      "metadata": {
        "id": "2_ldSGXmj5KX"
      },
      "outputs": [],
      "source": [
        "message_name = 'pose'\n",
        "key_name = 'accel'\n",
        "nusc_can.plot_message_data(scene_name, message_name, key_name, dimension=1)"
      ]
    },
    {
      "cell_type": "markdown",
      "metadata": {
        "id": "_pfHTSQXj5KX"
      },
      "source": [
        "We can also retrieve the raw data and compare the wheel speeds to the vehicle speeds. Here we convert the wheel speed from rounds per minute to m/s and the vehicle speed from km/h to m/s. We can see that there is a small offset between the speeds."
      ]
    },
    {
      "cell_type": "code",
      "execution_count": null,
      "metadata": {
        "id": "lRaMklrJj5KY"
      },
      "outputs": [],
      "source": [
        "import numpy as np\n",
        "import matplotlib.pyplot as plt\n",
        "\n",
        "# Retrieve raw data.\n",
        "wheel_speed = nusc_can.get_messages(scene_name, 'zoe_veh_info')\n",
        "wheel_speed = np.array([(m['utime'], m['FL_wheel_speed']) for m in wheel_speed])\n",
        "\n",
        "veh_speed = nusc_can.get_messages(scene_name, 'vehicle_monitor')\n",
        "veh_speed = np.array([(m['utime'], m['vehicle_speed']) for m in veh_speed])\n",
        "\n",
        "# Convert to m/s.\n",
        "radius = 0.305  # Known Zoe wheel radius in meters.\n",
        "circumference = 2 * np.pi * radius\n",
        "wheel_speed[:, 1] *= circumference / 60\n",
        "veh_speed[:, 1] *= 1 / 3.6\n",
        "\n",
        "# Normalize time.\n",
        "wheel_speed[:, 0] = (wheel_speed[:, 0] - wheel_speed[0, 0]) / 1e6\n",
        "veh_speed[:, 0] = (veh_speed[:, 0] - veh_speed[0, 0]) / 1e6"
      ]
    },
    {
      "cell_type": "code",
      "execution_count": null,
      "metadata": {
        "id": "Rn2DbFAMj5KY"
      },
      "outputs": [],
      "source": [
        "plt.plot(wheel_speed[:, 0], wheel_speed[:, 1])\n",
        "plt.plot(veh_speed[:, 0], veh_speed[:, 1])\n",
        "plt.xlabel('Time in s')\n",
        "plt.ylabel('Speed in m/s')\n",
        "plt.legend(['Wheel speed', 'Vehicle speed']);"
      ]
    },
    {
      "cell_type": "markdown",
      "metadata": {
        "id": "HKwSpVctj5KZ"
      },
      "source": [
        "Now let us render the baseline route for this scene. The blue line below shows the baseline route extended by 50m beyond the start and end of the scene. The orange line indicates the ego vehicle pose. To differentiate the start and end point we highlight the start with a red cross. We can see that there is a slight deviation of the actual poses from the route."
      ]
    },
    {
      "cell_type": "code",
      "execution_count": null,
      "metadata": {
        "id": "yoG4L4VBj5KZ"
      },
      "outputs": [],
      "source": [
        "nusc_can.plot_baseline_route(scene_name)"
      ]
    },
    {
      "cell_type": "markdown",
      "metadata": {
        "id": "2HwV_fw3j5KZ"
      },
      "source": [
        "## Error handling\n",
        "Please note that some scenes are not well aligned with the baseline route. This can be due to diversions or because the human driver was not following a route. We compute all misaligned routes by checking if each ego pose has a baseline route within 5m."
      ]
    },
    {
      "cell_type": "code",
      "execution_count": null,
      "metadata": {
        "id": "QBVXJ3Spj5KZ"
      },
      "outputs": [],
      "source": [
        "print(nusc_can.list_misaligned_routes())"
      ]
    },
    {
      "cell_type": "markdown",
      "metadata": {
        "id": "OSiey5yQj5KZ"
      },
      "source": [
        "Furthermore a small number of scenes have no CAN bus data at all. These can therefore not be used."
      ]
    },
    {
      "cell_type": "code",
      "execution_count": null,
      "metadata": {
        "id": "FJcbB8nCj5KZ"
      },
      "outputs": [],
      "source": [
        "print(nusc_can.can_blacklist)"
      ]
    }
  ],
  "metadata": {
    "kernelspec": {
      "display_name": "Python 3",
      "language": "python",
      "name": "python3"
    },
    "language_info": {
      "codemirror_mode": {
        "name": "ipython",
        "version": 3
      },
      "file_extension": ".py",
      "mimetype": "text/x-python",
      "name": "python",
      "nbconvert_exporter": "python",
      "pygments_lexer": "ipython3",
      "version": "3.7.7"
    },
    "pycharm": {
      "stem_cell": {
        "cell_type": "raw",
        "metadata": {
          "collapsed": false
        },
        "source": []
      }
    },
    "colab": {
      "provenance": []
    }
  },
  "nbformat": 4,
  "nbformat_minor": 0
}